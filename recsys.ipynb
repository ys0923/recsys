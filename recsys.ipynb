{
 "cells": [
  {
   "cell_type": "code",
   "execution_count": 1,
   "id": "e9fadaba",
   "metadata": {},
   "outputs": [],
   "source": [
    "import pandas as pd\n",
    "import numpy as np\n",
    "import matplotlib.pyplot as plt"
   ]
  },
  {
   "cell_type": "markdown",
   "id": "e94b5d2a",
   "metadata": {},
   "source": [
    "# Task 2"
   ]
  },
  {
   "cell_type": "code",
   "execution_count": 2,
   "id": "41f4d35e",
   "metadata": {},
   "outputs": [
    {
     "name": "stdout",
     "output_type": "stream",
     "text": [
      "   user_id gender  age  occupation    zip\n",
      "0        1      F    1          10  48067\n",
      "1        2      M   56          16  70072\n",
      "2        3      M   25          15  55117\n",
      "3        4      M   45           7  02460\n",
      "4        5      M   25          20  55455\n",
      "(6040, 5)\n"
     ]
    }
   ],
   "source": [
    "user_cols = ['user_id', 'gender', 'age', 'occupation', 'zip']\n",
    "users = pd.read_table('users.dat', sep='::', header=None, names=user_cols, engine='python')\n",
    "print(users.head())\n",
    "print(users.shape)"
   ]
  },
  {
   "cell_type": "code",
   "execution_count": 3,
   "id": "61661339",
   "metadata": {},
   "outputs": [
    {
     "name": "stdout",
     "output_type": "stream",
     "text": [
      "   user_id  movie_id  rating  timestamp\n",
      "0        1      1193       5  978300760\n",
      "1        1       661       3  978302109\n",
      "2        1       914       3  978301968\n",
      "3        1      3408       4  978300275\n",
      "4        1      2355       5  978824291\n",
      "(1000209, 4)\n"
     ]
    }
   ],
   "source": [
    "rating_cols = ['user_id', 'movie_id', 'rating', 'timestamp']\n",
    "ratings = pd.read_table('ratings.dat', sep='::', header=None, names=rating_cols, engine='python')\n",
    "print(ratings.head())\n",
    "print(ratings.shape)"
   ]
  },
  {
   "cell_type": "code",
   "execution_count": 4,
   "id": "9cea9f48",
   "metadata": {},
   "outputs": [
    {
     "name": "stdout",
     "output_type": "stream",
     "text": [
      "   movie_id                               title                        genres\n",
      "0         1                    Toy Story (1995)   Animation|Children's|Comedy\n",
      "1         2                      Jumanji (1995)  Adventure|Children's|Fantasy\n",
      "2         3             Grumpier Old Men (1995)                Comedy|Romance\n",
      "3         4            Waiting to Exhale (1995)                  Comedy|Drama\n",
      "4         5  Father of the Bride Part II (1995)                        Comedy\n",
      "(3883, 3)\n"
     ]
    }
   ],
   "source": [
    "movie_cols = ['movie_id', 'title', 'genres']\n",
    "movies = pd.read_table('movies.dat', sep='::', header=None, names=movie_cols, engine='python')\n",
    "print(movies.head())\n",
    "print(movies.shape)"
   ]
  },
  {
   "cell_type": "code",
   "execution_count": 5,
   "id": "bbe345d8",
   "metadata": {},
   "outputs": [
    {
     "data": {
      "text/plain": [
       "165.5975165562914"
      ]
     },
     "execution_count": 5,
     "metadata": {},
     "output_type": "execute_result"
    }
   ],
   "source": [
    "1000209/6040"
   ]
  },
  {
   "cell_type": "code",
   "execution_count": 6,
   "id": "d2b8b836",
   "metadata": {},
   "outputs": [
    {
     "data": {
      "text/plain": [
       "(array([ 56174.,      0., 107557.,      0.,      0., 261197.,      0.,\n",
       "        348971.,      0., 226310.]),\n",
       " array([1. , 1.4, 1.8, 2.2, 2.6, 3. , 3.4, 3.8, 4.2, 4.6, 5. ]),\n",
       " <a list of 10 Patch objects>)"
      ]
     },
     "execution_count": 6,
     "metadata": {},
     "output_type": "execute_result"
    },
    {
     "data": {
      "image/png": "[encoded data removed]",
      "text/plain": [
       "<Figure size 432x288 with 1 Axes>"
      ]
     },
     "metadata": {
      "needs_background": "light"
     },
     "output_type": "display_data"
    }
   ],
   "source": [
    "plt.hist(ratings['rating'])"
   ]
  },
  {
   "cell_type": "code",
   "execution_count": 7,
   "id": "3363c436",
   "metadata": {},
   "outputs": [
    {
     "name": "stdout",
     "output_type": "stream",
     "text": [
      "[4.146846413095811, 3.20114122681883, 3.01673640167364, 2.7294117647058824, 3.0067567567567566, 3.8787234042553194, 3.410480349344978, 3.014705882352941, 2.656862745098039, 3.5405405405405403]\n"
     ]
    },
    {
     "data": {
      "text/plain": [
       "(array([ 38.,  58., 192., 316., 527., 849., 876., 619., 149.,  14.]),\n",
       " array([1. , 1.4, 1.8, 2.2, 2.6, 3. , 3.4, 3.8, 4.2, 4.6, 5. ]),\n",
       " <a list of 10 Patch objects>)"
      ]
     },
     "execution_count": 7,
     "metadata": {},
     "output_type": "execute_result"
    },
    {
     "data": {
      "image/png": "[encoded data removed]",
      "text/plain": [
       "<Figure size 432x288 with 1 Axes>"
      ]
     },
     "metadata": {
      "needs_background": "light"
     },
     "output_type": "display_data"
    }
   ],
   "source": [
    "movie_rating_avg = []\n",
    "for i in range(movies.shape[0]):\n",
    "    movie_rating_avg.append(ratings[ratings['movie_id'] == (i+1)].loc[:,'rating'].mean())\n",
    "print(movie_rating_avg[0:10])\n",
    "plt.hist(movie_rating_avg)"
   ]
  },
  {
   "cell_type": "code",
   "execution_count": 8,
   "id": "af686d19",
   "metadata": {},
   "outputs": [
    {
     "name": "stdout",
     "output_type": "stream",
     "text": [
      "[4.188679245283019, 3.7131782945736433, 3.9019607843137254, 4.190476190476191, 3.1464646464646466, 3.9014084507042255, 4.32258064516129, 3.884892086330935, 3.7358490566037736, 4.114713216957606]\n"
     ]
    },
    {
     "data": {
      "text/plain": [
       "(array([   3.,    0.,   15.,   62.,  275.,  907., 2026., 2019.,  675.,\n",
       "          58.]),\n",
       " array([1.01538462, 1.41014245, 1.80490028, 2.19965812, 2.59441595,\n",
       "        2.98917379, 3.38393162, 3.77868946, 4.17344729, 4.56820513,\n",
       "        4.96296296]),\n",
       " <a list of 10 Patch objects>)"
      ]
     },
     "execution_count": 8,
     "metadata": {},
     "output_type": "execute_result"
    },
    {
     "data": {
      "image/png": "[encoded data removed]",
      "text/plain": [
       "<Figure size 432x288 with 1 Axes>"
      ]
     },
     "metadata": {
      "needs_background": "light"
     },
     "output_type": "display_data"
    }
   ],
   "source": [
    "user_rating_avg = []\n",
    "for i in range(users.shape[0]):\n",
    "    user_rating_avg.append(ratings[ratings['user_id'] == (i+1)].loc[:,'rating'].mean())\n",
    "print(user_rating_avg[0:10])\n",
    "plt.hist(user_rating_avg)"
   ]
  },
  {
   "cell_type": "markdown",
   "id": "c2eaf262",
   "metadata": {},
   "source": [
    "- 总共有6040个用户\n",
    "- 总共有3883个用户\n",
    "- 平均每个用户对166个电影进行了评分"
   ]
  },
  {
   "cell_type": "markdown",
   "id": "a073dddc",
   "metadata": {},
   "source": [
    "划分数据集为训练集和验证集时对每一个用户的评分记录进行分割，确保训练集和验证集中都有该用户的评分记录。"
   ]
  },
  {
   "cell_type": "markdown",
   "id": "0c76ea33",
   "metadata": {},
   "source": [
    "# Task 3"
   ]
  },
  {
   "cell_type": "code",
   "execution_count": 18,
   "id": "c63b47dc",
   "metadata": {},
   "outputs": [
    {
     "name": "stdout",
     "output_type": "stream",
     "text": [
      "0.4166666666666667\n",
      "0.18746674483431516\n"
     ]
    }
   ],
   "source": [
    "# generate user-item rating matrix\n",
    "def generate_rating_matrix(ratings, num_users, num_items, users, items):\n",
    "    res = np.zeros((num_users, num_items))\n",
    "    df_res = pd.DataFrame(res, columns=items, index=users)\n",
    "    for _, row in ratings.iterrows():\n",
    "        df_res.loc[row['user_id'], row['movie_id']] = row['rating']\n",
    "    return df_res\n",
    "\n",
    "# User similarity(Pearson similarity)\n",
    "def user_sim(user_1, user_2, rating_matrix):\n",
    "    user_1_vec = (rating_matrix.loc[user_1,:]).tolist()\n",
    "    user_2_vec = (rating_matrix.loc[user_2,:]).tolist()\n",
    "    user_1_ratings = [x for index, x in enumerate(user_1_vec) if x*user_2_vec[index]!=0]\n",
    "    user_2_ratings = [x for index, x in enumerate(user_2_vec) if x*user_1_vec[index]!=0]\n",
    "    if not user_1_vec:\n",
    "        return np.nan\n",
    "    return np.corrcoef(np.array(user_1_ratings), np.array(user_2_ratings))[0][1]\n",
    "\n",
    "def item_sim(item_1, item_2, rating_matrix):\n",
    "    item_1_vec = (rating_matrix.loc[:,item_1]).tolist()\n",
    "    item_2_vec = (rating_matrix.loc[:,item_2]).tolist()\n",
    "    item_1_ratings = [x for index, x in enumerate(item_1_vec) if x*item_2_vec[index]!=0]\n",
    "    item_2_ratings = [x for index, x in enumerate(item_2_vec) if x*item_1_vec[index]!=0]\n",
    "    if not item_1_ratings:\n",
    "        return np.nan\n",
    "    return np.corrcoef(np.array(item_1_ratings), np.array(item_2_ratings))[0][1]\n",
    "\n",
    "\n",
    "num_users = users.shape[0]\n",
    "num_movies = movies.shape[0]\n",
    "user_id = users['user_id'].unique()\n",
    "movie_id = movies['movie_id'].unique()\n",
    "rating_matrix = generate_rating_matrix(ratings, num_users, num_movies, user_id, movie_id)\n",
    "user_similarity = user_sim(1, 2, rating_matrix)\n",
    "item_similarity = item_sim(1, 2, rating_matrix)\n",
    "print(user_similarity)\n",
    "print(item_similarity)"
   ]
  },
  {
   "cell_type": "markdown",
   "id": "06a9449f",
   "metadata": {},
   "source": [
    "# Task 4"
   ]
  },
  {
   "cell_type": "code",
   "execution_count": null,
   "id": "b1227e92",
   "metadata": {},
   "outputs": [],
   "source": [
    "# user-cf\n",
    "for u in user_id:\n",
    "    user_sim_dict = {}\n",
    "    for v in user_id:\n",
    "        if v != u:\n",
    "            user_sim_dict[v] = user_sim(u, v, rating_matrix)"
   ]
  }
 ],
 "metadata": {
  "kernelspec": {
   "display_name": "colab",
   "language": "python",
   "name": "colab"
  },
  "language_info": {
   "codemirror_mode": {
    "name": "ipython",
    "version": 3
   },
   "file_extension": ".py",
   "mimetype": "text/x-python",
   "name": "python",
   "nbconvert_exporter": "python",
   "pygments_lexer": "ipython3",
   "version": "3.7.11"
  }
 },
 "nbformat": 4,
 "nbformat_minor": 5
}
